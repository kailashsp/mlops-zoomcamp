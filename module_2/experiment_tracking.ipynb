{
 "cells": [
  {
   "cell_type": "code",
   "execution_count": 1,
   "metadata": {},
   "outputs": [],
   "source": [
    "import pandas as pd\n",
    "from sklearn.feature_extraction import DictVectorizer\n",
    "from sklearn.linear_model import LinearRegression\n",
    "from sklearn.metrics import mean_squared_error\n"
   ]
  },
  {
   "cell_type": "code",
   "execution_count": null,
   "metadata": {},
   "outputs": [],
   "source": [
    "def preprocesor(path):\n",
    "    data =pd.read_parquet(path)\n",
    "    data[\"duration_delta\"] = data[\"tpep_dropoff_datetime\"]- data[\"tpep_pickup_datetime\"]\n",
    "    data[\"duration\"]=data[\"duration_delta\"].dt.total_seconds()/60\n",
    "    data = data[(data[\"duration\"]<60) & (data[\"duration\"]>1)]\n",
    "\n",
    "    features = [\"PULocationID\",\"DOLocationID\"]\n",
    "    data[features] = data[features].astype(str)\n",
    "    train_dict = data[features].to_dict(orient=\"records\")\n",
    "    dv = DictVectorizer()\n",
    "    X_train = dv.fit_transform(train_dict)\n",
    "\n",
    "    target = 'duration'\n",
    "    y_train = data[target].values\n",
    "\n",
    "    return X_train, y_train\n",
    "\n",
    "    # lr = LinearRegression()\n",
    "\n"
   ]
  },
  {
   "cell_type": "code",
   "execution_count": null,
   "metadata": {},
   "outputs": [],
   "source": [
    "preprocesor(\"../yellow_tripdata_2022-01.parquet\")"
   ]
  },
  {
   "cell_type": "code",
   "execution_count": null,
   "metadata": {},
   "outputs": [],
   "source": [
    "def training():\n",
    "    lr = LinearRegression()\n",
    "    lr.fit()"
   ]
  },
  {
   "cell_type": "code",
   "execution_count": null,
   "metadata": {},
   "outputs": [],
   "source": []
  },
  {
   "cell_type": "code",
   "execution_count": null,
   "metadata": {},
   "outputs": [],
   "source": []
  },
  {
   "cell_type": "code",
   "execution_count": null,
   "metadata": {},
   "outputs": [],
   "source": []
  }
 ],
 "metadata": {
  "kernelspec": {
   "display_name": "mlflow",
   "language": "python",
   "name": "python3"
  },
  "language_info": {
   "codemirror_mode": {
    "name": "ipython",
    "version": 3
   },
   "file_extension": ".py",
   "mimetype": "text/x-python",
   "name": "python",
   "nbconvert_exporter": "python",
   "pygments_lexer": "ipython3",
   "version": "3.10.8"
  },
  "orig_nbformat": 4
 },
 "nbformat": 4,
 "nbformat_minor": 2
}
